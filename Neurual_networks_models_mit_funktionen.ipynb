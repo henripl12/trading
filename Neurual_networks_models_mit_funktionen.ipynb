{
  "nbformat": 4,
  "nbformat_minor": 0,
  "metadata": {
    "colab": {
      "provenance": [],
      "authorship_tag": "ABX9TyO1dGF63jrEhTc96VaZs1mn",
      "include_colab_link": true
    },
    "kernelspec": {
      "name": "python3",
      "display_name": "Python 3"
    },
    "language_info": {
      "name": "python"
    }
  },
  "cells": [
    {
      "cell_type": "markdown",
      "metadata": {
        "id": "view-in-github",
        "colab_type": "text"
      },
      "source": [
        "<a href=\"https://colab.research.google.com/github/henripl12/trading/blob/main/Neurual_networks_models_mit_funktionen.ipynb\" target=\"_parent\"><img src=\"https://colab.research.google.com/assets/colab-badge.svg\" alt=\"Open In Colab\"/></a>"
      ]
    },
    {
      "cell_type": "code",
      "source": [
        "import pandas as pd\n",
        "import numpy as np\n",
        "import datetime as dt\n",
        "import matplotlib.pyplot as plt\n",
        "import yfinance as yf\n",
        "import joblib\n",
        "from sklearn.neural_network import MLPClassifier\n",
        "from dateutil.relativedelta import relativedelta\n",
        "\n",
        "\n",
        "def train_model(symbol):\n",
        "    # Download historical prices of SPY\n",
        "    symbol = 'SPY'\n",
        "    start_date = start_date = dt.datetime.now() -relativedelta(years= 23)\n",
        "    end_date = dt.datetime.now()\n",
        "    all_data = yf.download(symbol, start=start_date, end=end_date, interval=\"1d\")\n",
        "    # add start_date as rolling e.g. last 20 years to train\n",
        "\n",
        "    # Calculate technical indicators\n",
        "    all_data['SMA_5'] = all_data['Close'].rolling(window=5).mean()\n",
        "    all_data['SMA_15'] = all_data['Close'].rolling(window=15).mean()\n",
        "    all_data['SMA_ratio'] = all_data['SMA_15'] / all_data['SMA_5']\n",
        "    all_data['15MA'] = all_data['Close'].rolling(window=15).mean()\n",
        "    all_data['SD'] = all_data['Close'].rolling(window=15).std()\n",
        "    all_data['upperband'] = all_data['15MA'] + 2 * all_data['SD']\n",
        "    all_data['lowerband'] = all_data['15MA'] - 2 * all_data['SD']\n",
        "    all_data['return'] = all_data['Close'].pct_change()\n",
        "\n",
        "    # Prepare data for backtesting (same as your original code)\n",
        "    all_data['Target_Direction'] = np.where(all_data['return'] > 0, 1, 0)\n",
        "    all_data = all_data.dropna().copy()\n",
        "    Target_variables = ['SMA_ratio', 'SMA_5', 'SMA_15', '15MA', 'SD', 'upperband', 'lowerband']\n",
        "\n",
        "    # Split data into train and test sets (same as your original code)\n",
        "    X = all_data[Target_variables]\n",
        "    y = all_data['Target_Direction']\n",
        "    train_size = int(0.75 * len(all_data))\n",
        "    X_train, X_test = X[:train_size], X[train_size:]\n",
        "    y_train, y_test = y[:train_size], y[train_size:]\n",
        "\n",
        "    # Train the model (same as your original code)\n",
        "    clf =  MLPClassifier(solver='lbfgs', alpha=1e-5,hidden_layer_sizes=(50, 10,50), random_state=1)\n",
        "    model= clf.fit(X_train, y_train)\n",
        "\n",
        "    # Save the trained model for future use\n",
        "    joblib.dump(model, 'trained_model.pkl')\n",
        "\n"
      ],
      "metadata": {
        "id": "gBCBXDNolyxc"
      },
      "execution_count": 2,
      "outputs": []
    },
    {
      "cell_type": "code",
      "source": [
        "# Load the trained model and data to predict\n",
        "def load_model_and_predict(symbol):\n",
        "    clf = joblib.load('trained_model.pkl')\n",
        "\n",
        "    # Download historical prices of SPY\n",
        "    symbol\n",
        "    start_date = start_date = dt.datetime.now() -relativedelta(days= 30)\n",
        "    end_date = dt.datetime.now()\n",
        "    all_data = yf.download(symbol, start=start_date, end=end_date, interval=\"1d\")\n",
        "    # add start_date as rolling e.g. last 20 years to train\n",
        "\n",
        "    # Calculate technical indicators\n",
        "    all_data['SMA_5'] = all_data['Close'].rolling(window=5).mean()\n",
        "    all_data['SMA_15'] = all_data['Close'].rolling(window=15).mean()\n",
        "    all_data['SMA_ratio'] = all_data['SMA_15'] / all_data['SMA_5']\n",
        "    all_data['15MA'] = all_data['Close'].rolling(window=15).mean()\n",
        "    all_data['SD'] = all_data['Close'].rolling(window=15).std()\n",
        "    all_data['upperband'] = all_data['15MA'] + 2 * all_data['SD']\n",
        "    all_data['lowerband'] = all_data['15MA'] - 2 * all_data['SD']\n",
        "    all_data['return'] = all_data['Close'].pct_change()\n",
        "\n",
        "    # Prepare data for backtesting (same as your original code)\n",
        "    all_data = all_data.dropna().copy()\n",
        "    Target_variables = ['SMA_ratio', 'SMA_5', 'SMA_15', '15MA', 'SD', 'upperband', 'lowerband']\n",
        "\n",
        "    # Split data into train and test sets (same as your original code)\n",
        "    test_data = all_data.iloc[-1:]\n",
        "    X = all_data[Target_variables]\n",
        "    X_test =  X[-1:]\n",
        "\n",
        "    y_pred =  clf.predict(X_test)\n",
        "    test_data['Predicted_Direction'] = y_pred\n",
        "    test_data['Signal'] = np.where(test_data['Predicted_Direction'] == 1, 'Buy', 'Sell')\n",
        "\n",
        "    date_of_prediction = all_data.index[-1]\n",
        "\n",
        "    # Create a DataFrame with predictions and other relevant data\n",
        "    predictions_data = pd.DataFrame({\n",
        "      'Date': [date_of_prediction],\n",
        "      'Predicted_Direction': y_pred,\n",
        "      'Signal': ['Buy' if pred == 1 else 'Sell' for pred in y_pred]\n",
        "    })\n",
        "    # Save predictions to a CSV file\n",
        "    file_path = 'predictions.csv'\n",
        "    predictions_data.to_csv(file_path, mode='a', header=False, index=False)"
      ],
      "metadata": {
        "id": "gSZphgi7mdwR"
      },
      "execution_count": 3,
      "outputs": []
    },
    {
      "cell_type": "code",
      "source": [
        "train_model('SPY')\n",
        "load_model_and_predict('SPY')"
      ],
      "metadata": {
        "colab": {
          "base_uri": "https://localhost:8080/"
        },
        "id": "f2Rfy6yKz6pD",
        "outputId": "43c65fec-7f01-40b0-eac9-d2b71eea7ffd"
      },
      "execution_count": 4,
      "outputs": [
        {
          "output_type": "stream",
          "name": "stdout",
          "text": [
            "[*********************100%***********************]  1 of 1 completed\n",
            "[*********************100%***********************]  1 of 1 completed\n"
          ]
        },
        {
          "output_type": "stream",
          "name": "stderr",
          "text": [
            "<ipython-input-3-1672966ecd94>:32: SettingWithCopyWarning: \n",
            "A value is trying to be set on a copy of a slice from a DataFrame.\n",
            "Try using .loc[row_indexer,col_indexer] = value instead\n",
            "\n",
            "See the caveats in the documentation: https://pandas.pydata.org/pandas-docs/stable/user_guide/indexing.html#returning-a-view-versus-a-copy\n",
            "  test_data['Predicted_Direction'] = y_pred\n",
            "<ipython-input-3-1672966ecd94>:33: SettingWithCopyWarning: \n",
            "A value is trying to be set on a copy of a slice from a DataFrame.\n",
            "Try using .loc[row_indexer,col_indexer] = value instead\n",
            "\n",
            "See the caveats in the documentation: https://pandas.pydata.org/pandas-docs/stable/user_guide/indexing.html#returning-a-view-versus-a-copy\n",
            "  test_data['Signal'] = np.where(test_data['Predicted_Direction'] == 1, 'Buy', 'Sell')\n"
          ]
        }
      ]
    }
  ]
}